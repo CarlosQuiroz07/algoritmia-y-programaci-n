{
  "cells": [
    {
      "cell_type": "markdown",
      "metadata": {
        "id": "QZ6XziVD76Jw"
      },
      "source": [
        "<h1 align=\"center\">Taller - Instrucciones repetitivas en Python</h1>\n",
        "\n",
        "Desarrolle la solucion a los siguientes problemas en Python, usando funciones y el programa correspondiente\n",
        "\n",
        "---"
      ]
    },
    {
      "cell_type": "markdown",
      "metadata": {
        "id": "uJJp2xk076J1"
      },
      "source": [
        "## Ejercicio 01\n",
        "\n",
        "Una librería ofrece dos tipos de descuentos ante la compra de un libro. Si el libro tiene un precio inferior a cien mil pesos, el descuento es del 12% del precio; pero en cualquier otro caso, el descuento asciende a un 18%.\n",
        "\n",
        "* Escriba una función que halle el precio neto de un libro (precio menos descuento) de un libro, dado el precio del libro.\n",
        "* Ahora, escriba un programa que permita leer el precio de varios libros (finalizar cuando el precio es cero o negativo) y mostrar para cada libro, el precio neto (usando la función desarrollada anteriormente)"
      ]
    },
    {
      "cell_type": "code",
      "execution_count": 2,
      "metadata": {
        "id": "58mamZV176J2"
      },
      "outputs": [
        {
          "name": "stdout",
          "output_type": "stream",
          "text": [
            "el precio neto es:  50160.0\n",
            "el precio neto es:  86240.0\n",
            "el precio neto es:  117260.0\n",
            "el precio neto es:  146780.0\n"
          ]
        }
      ],
      "source": [
        "# Definición de la función\n",
        "def Hallar_precio_leto(precio_libro: float) -> float:\n",
        "    if precio_libro < 100000:\n",
        "        precio_neto = precio_libro - (precio_libro*0.12)\n",
        "    else:\n",
        "        precio_neto = precio_libro - (precio_libro*0.18)\n",
        "    return precio_neto\n",
        "\n",
        "\n",
        "# Programa principal\n",
        "precio_libro = float(input(\"Ingrese el precio del libro: \"))\n",
        "while precio_libro > 0:\n",
        "    precio_neto = Hallar_precio_leto(precio_libro)\n",
        "    print(\"el precio neto es: \", precio_neto)\n",
        "    precio_libro = float(input(\"Ingrese el precio del libro: \"))\n",
        "\n"
      ]
    },
    {
      "cell_type": "markdown",
      "metadata": {
        "id": "jF4Qm9FE76J3"
      },
      "source": [
        "---"
      ]
    },
    {
      "cell_type": "markdown",
      "metadata": {
        "id": "weyR_q0d76J4"
      },
      "source": [
        "## Ejercicio 02\n",
        "\n",
        "Un vendedor recibe una comisión por el volumen de ventas que realice. Las reglas para asignarle la comisión al vendedor son las siguientes:\n",
        "\n",
        "Ventas | Comisión\n",
        "---|---\n",
        "Inferior a 50 mil pesos | 7% de las ventas\n",
        "Entre 50 mil y 100 mil pesos | 9% de las ventas más 5 mil pesos\n",
        "Entre 100 mil y 200 mil pesos | 11% de las ventas más 10 mil pesos\n",
        "Entre 200 mil y 500 mil pesos | 13% de las ventas más 20 mil pesos\n",
        "Más de 500 mil pesos | 15% de las ventas más 40 mil pesos\n",
        "\n",
        "* Escriba una función que recibe el valor de las ventas de un vendedor y que retorne la comisión\n",
        "* Escriba un programa que lea el valor de ventas de varios vendedores de la empresa (finalizar cuando las ventas sean negativas), y usando la función anterior, calcule la comisión y la imprima por pantalla."
      ]
    },
    {
      "cell_type": "code",
      "execution_count": 5,
      "metadata": {
        "id": "kMitVJVW76J4"
      },
      "outputs": [
        {
          "name": "stdout",
          "output_type": "stream",
          "text": [
            "El valor de la venta: 19200.00 con su comision es de: 1344.00\n",
            "El valor de la venta: 34500.00 con su comision es de: 2415.00\n",
            "El valor de la venta: 58100.00 con su comision es de: 16391.00\n",
            "El valor de la venta: 86300.00 con su comision es de: 19493.00\n",
            "El valor de la venta: 146800.00 con su comision es de: 39084.00\n",
            "El valor de la venta: 199000.00 con su comision es de: 45870.00\n",
            "El valor de la venta: 214000.00 con su comision es de: 72100.00\n",
            "El valor de la venta: 377700.00 con su comision es de: 96655.00\n",
            "El valor de la venta: 582000.00 con su comision es de: 127300.00\n",
            "El valor de la venta: 597100.00 con su comision es de: 129565.00\n"
          ]
        }
      ],
      "source": [
        "# Definición de la función\n",
        "def Valor_ventas(valor_inicial: int) -> int:\n",
        "    if valor_inicial < 50000:\n",
        "        valor_comision = (valor_inicial*0.07)\n",
        "    elif 50000 >= valor_inicial <= 100000:\n",
        "        valor_comision = (valor_inicial*0.09) + 5000 \n",
        "    elif 100000 >= valor_inicial <= 200000:\n",
        "        valor_comision = (valor_inicial*0.11) + 10000\n",
        "    elif 200000 >= valor_inicial <= 500000:\n",
        "        valor_comision = (valor_inicial*0.13) + 20000\n",
        "    else:\n",
        "        valor_comision = (valor_inicial*0.15) + 40000\n",
        "    return valor_comision\n",
        "\n",
        "# Programa principal\n",
        "\n",
        "valor_inicial = float(input(\"Ingrese el valor de la venta: \"))\n",
        "while valor_inicial >= 0:\n",
        "    valor_comision = Valor_ventas(valor_inicial)\n",
        "    print(f\"El valor de la venta: {valor_inicial:.2f} con su comision es de: {valor_comision:.2f}\")\n",
        "    valor_inicial = float(input(\"Ingrese el valor de la venta: \"))"
      ]
    },
    {
      "cell_type": "markdown",
      "metadata": {
        "id": "YWyFJrR876J4"
      },
      "source": [
        "---\n"
      ]
    },
    {
      "cell_type": "markdown",
      "metadata": {
        "id": "2IHUrLVh76J5"
      },
      "source": [
        "## Ejercicio 03\n",
        "\n",
        "Una empresa ofrece a sus empleados un salario mensual fijo, y un porcertaje de las ventas como una comisión adicional a ese salario mensual. Esta comisión se calcula de la siguiente manera: si las ventas de un empleado excede los 50 mil pesoso, la comisión será de un 12% de las ventas que están por encima de los 50 mil pesos, en otro caso no habrá comisión.\n",
        "\n",
        "* Primero, construya una función en la que dado las ventas que hizo el empleado, determine cuánto es la comisión\n",
        "* Ahora hay que hacer un programa que calcule y muestre los salarios y comisiones de todos los empleados de la empresa. Para cada empleado hay que preguntarle al usuario, el salario mensual y las ventas realizadas, y mostrar la comisión por las ventas (usando la función anterior) y el salario neto (salario más comisión). Como no sabemos cuántos empleados hay, después de mostrar esta información, debemos preguntarle al usuario si desea seguir o no."
      ]
    },
    {
      "cell_type": "code",
      "execution_count": null,
      "metadata": {
        "id": "aTuMvKmw76J5"
      },
      "outputs": [
        {
          "name": "stdout",
          "output_type": "stream",
          "text": [
            "Su salario era de: 1540000 y ya que como 58000 excede los 50.000, de las ventas, su comisión es de: 6960.0 para que nos de en total: 1546960.0\n",
            "Su salario era de: 1985000 y ya que como 97000 excede los 50.000, de las ventas, su comisión es de: 11640.0 para que nos de en total: 1996640.0\n",
            "Su salario era de: 2100000 y como 14000 no los 50.000, de las ventas, no hay comisión entonces nos da en total: 2100000\n",
            "Su salario era de: 1798000 y como 27000 no los 50.000, de las ventas, no hay comisión entonces nos da en total: 1798000\n"
          ]
        }
      ],
      "source": [
        "# Definición de la función\n",
        "def comision_de_ventas(ventas:int) -> int:\n",
        "    if ventas > 50000:\n",
        "        comision = ventas*0.12\n",
        "    else:\n",
        "        comision = ventas * 0\n",
        "    return comision\n",
        "\n",
        "\n",
        "# Programa principal\n",
        "while True:\n",
        "    salario_fijo = int(input(\"EL valor de su salario fijo es de: \"))\n",
        "    ventas = int(input(\"El valor de las ventas del trabajador fueron: \"))\n",
        "    \n",
        "    comision = comision_de_ventas(ventas)\n",
        "    if ventas > 50000:\n",
        "        print(f\"Su salario era de: {salario_fijo} y ya que como {ventas} excede los 50.000, de las ventas, su comisión es de: {comision} para que nos de en total: {salario_fijo+comision}\")\n",
        "    else:\n",
        "        print(f\"Su salario era de: {salario_fijo} y como {ventas} no excede los 50.000, de las ventas, no hay comisión entonces nos da en total: {salario_fijo+comision}\")\n",
        "    continuar = input('Desea continuar \\n\"Si/No\"').capitalize()\n",
        "    if continuar == 'Si':\n",
        "        continue\n",
        "    elif continuar == 'No':\n",
        "        break"
      ]
    },
    {
      "cell_type": "markdown",
      "metadata": {
        "id": "6M93ZEZh76J5"
      },
      "source": [
        "---"
      ]
    },
    {
      "cell_type": "markdown",
      "metadata": {
        "id": "ge6TBY0P76J6"
      },
      "source": [
        "## Ejercicio 04\n",
        "\n",
        "En una empresa se le paga a los trabajadores al final de cada semana de acuerdo a las reglas dadas a continuación:\n",
        "\n",
        "* Si trabajas 35 horas o menos, se le paga un valor de 15 mil pesos la hora;\n",
        "* Si trabaja más de 35 horas pero menos de 60, el valor de la hora es de 15 mil por las primeras 35 horas y de 18 mil por cada hora trabajada por encima de las 35\n",
        "* Si trabaja más de 60 horas, las primeras 35 se pagan a 15 mil, las siguiente 25 horas a 18 mil cada una y las horas horas trabajadas por encima de las 60 horas, se le paga a 25 mil pesos cada una.\n",
        "\n",
        "Vamos a buscar imprimir el salario semanal de cada uno de los empleados de la empresa. Para ello:\n",
        "\n",
        "* Escriba una función que reciba el número de horas trabajadas por un empleado y retorne el salario\n",
        "* Un programa que le pregunte al usuario el número de empleados que trabajan en la empresa, y para cada uno de esos, pregunte el número de horas trabajadas en la semana, y usando la función anterior, imprima el salario mensual de ese empleado."
      ]
    },
    {
      "cell_type": "code",
      "execution_count": 4,
      "metadata": {
        "id": "o8NultX076J6"
      },
      "outputs": [
        {
          "name": "stdout",
          "output_type": "stream",
          "text": [
            "Sus horas trabajadas fueron: 19 y su salario por semana en base a sus horas es: 285000.00\n",
            "Sus horas trabajadas fueron: 31 y su salario por semana en base a sus horas es: 465000.00\n",
            "Sus horas trabajadas fueron: 37 y su salario por semana en base a sus horas es: 561000.00\n",
            "Sus horas trabajadas fueron: 55 y su salario por semana en base a sus horas es: 885000.00\n",
            "Sus horas trabajadas fueron: 64 y su salario por semana en base a sus horas es: 1147000.00\n",
            "Sus horas trabajadas fueron: 73 y su salario por semana en base a sus horas es: 1534000.00\n"
          ]
        }
      ],
      "source": [
        "# Definición de la función\n",
        "def salario_por_horas(horas_t:int) -> int:\n",
        "    if horas_t <= 35:\n",
        "        hora_trabajada = 15000 * horas_t\n",
        "    elif 35 < horas_t < 60:\n",
        "        restante_promedio = horas_t - 35\n",
        "        hora_trabajada = 15000 * 35 + (18000 * restante_promedio)\n",
        "    elif horas_t > 60:\n",
        "        restante_promedio = horas_t - 35\n",
        "        restante_promedio_1 = restante_promedio - 25\n",
        "        hora_trabajada = 15000 * 35 + (18000 * restante_promedio) + (25000 * restante_promedio_1)\n",
        "    return hora_trabajada\n",
        "\n",
        "\n",
        "\n",
        "# Programa principal\n",
        "while True:\n",
        "    horas_t = int(input(\"Cual es el valor de horas trabajadas en la semana?: \"))\n",
        "    hora_trabajada = salario_por_horas(horas_t)\n",
        "    print(f\"Sus horas trabajadas fueron: {horas_t} y su salario por semana en base a sus horas es: {hora_trabajada:.2f}\")\n",
        "    continuar = input('Quieres continuar con lo el salario de los trabajadores \\n \"Si/No\": ').capitalize()\n",
        "    if continuar == 'Si':\n",
        "        continue\n",
        "    else:\n",
        "        break\n"
      ]
    }
  ],
  "metadata": {
    "colab": {
      "name": "Taller_03.ipynb",
      "provenance": []
    },
    "kernelspec": {
      "display_name": "Python 3",
      "language": "python",
      "name": "python3"
    },
    "language_info": {
      "codemirror_mode": {
        "name": "ipython",
        "version": 3
      },
      "file_extension": ".py",
      "mimetype": "text/x-python",
      "name": "python",
      "nbconvert_exporter": "python",
      "pygments_lexer": "ipython3",
      "version": "3.12.3"
    }
  },
  "nbformat": 4,
  "nbformat_minor": 0
}
