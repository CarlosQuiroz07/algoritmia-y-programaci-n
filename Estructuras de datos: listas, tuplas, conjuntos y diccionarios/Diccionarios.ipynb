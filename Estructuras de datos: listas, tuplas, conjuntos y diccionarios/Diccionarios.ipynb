{
 "cells": [
  {
   "cell_type": "markdown",
   "id": "878ba054",
   "metadata": {},
   "source": [
    "# Diccionarios \n",
    "Un diccionario es un conjunto de parejas clave- valor (key-value). Es decir, se accede a cada\n",
    "elemento a partir de su clave. Se definen de la siguiente manera:"
   ]
  },
  {
   "cell_type": "code",
   "execution_count": 1,
   "id": "ae62c766",
   "metadata": {},
   "outputs": [],
   "source": [
    "estudiante = {\n",
    "\"nombre\": \"Iñaki Perurena\",\n",
    "\"edad\": 30,\n",
    "\"nota_media\": 7.25,\n",
    "\"repetidor\" : False \n",
    "}"
   ]
  },
  {
   "cell_type": "markdown",
   "id": "bd41aee7",
   "metadata": {},
   "source": [
    "Las claves tienen que ser únicas y estar formadas por un string o un número. Para acceder al\n",
    "valor de una clave exiten dos maneras distintas:"
   ]
  },
  {
   "cell_type": "code",
   "execution_count": 2,
   "id": "1a409156",
   "metadata": {},
   "outputs": [],
   "source": [
    "# Acceder al valor de una clave\n",
    "edad = estudiante[\"edad\"] # devuelve el valor de 'edad'\n",
    "nota_media = estudiante.get(\"nota_media\") # devuelve el valor de 'nota_media'\n",
    "\n",
    "# Insertar o actualizar un valor:\n",
    "estudiante[\"edad\"] = 25 # actualiza el valor de 'edad'\n",
    "estudiante[\"suspensos\"] = 3 # inserta una nueva pareja clave - valor\n",
    "\n",
    "# insertar una pareja clave - valor o actualizar si ya existe:\n",
    "estudiante.update({'aprobados':'8'})"
   ]
  },
  {
   "cell_type": "markdown",
   "id": "720681d1",
   "metadata": {},
   "source": [
    "Algunos de los métodos más utilizadosson los siguientes:\n",
    "|Método|Acción|\n",
    "|:-------:|:-----------:|\n",
    "|diccionario.keys()| Devuelve todas las claves del diccionario|\n",
    "|diccionario.values()| Devuelve todos los valores del diccionario|\n",
    "|diccionario.pop(clave[,<default>])| Elimina la clave del diccionario y devuelve su valor asociado. Si no la encuentra y se indica un valor por defecto, devuelve el valor por defecto indicado.|\n",
    "|diccionario.clear()| Vacía el diccionario|\n",
    "|clave in diccionario| Devuelve True si el diccionario contiene la clave o False en caso contrario.|\n",
    "|valor in diccionario.values()| Devuelve True si el diccionario contiene el valor o False en caso contrario.|\n"
   ]
  },
  {
   "cell_type": "markdown",
   "id": "4db69dec",
   "metadata": {},
   "source": [
    "# Recorrer un diccionario \n",
    "La forma más habitual de recorrer un diccionario es mediante la sentencia for. Al recorrer un\n",
    "diccionario, por defecto se iterará sobre sus claves:\n"
   ]
  },
  {
   "cell_type": "code",
   "execution_count": 10,
   "id": "abb9f015",
   "metadata": {},
   "outputs": [
    {
     "name": "stdout",
     "output_type": "stream",
     "text": [
      "a\n",
      "b\n",
      "c\n"
     ]
    }
   ],
   "source": [
    "diccionario = {'a':1, 'b':2, 'c':3}\n",
    "for key in diccionario:\n",
    "    print(key)"
   ]
  },
  {
   "cell_type": "markdown",
   "id": "1c54a800",
   "metadata": {},
   "source": [
    "Es decir, el código anteirorserá equivalente al siguiente:"
   ]
  },
  {
   "cell_type": "code",
   "execution_count": 11,
   "id": "e0584ebb",
   "metadata": {},
   "outputs": [
    {
     "name": "stdout",
     "output_type": "stream",
     "text": [
      "a\n",
      "b\n",
      "c\n"
     ]
    }
   ],
   "source": [
    "diccionario = {'a':1, 'b':2, 'c':3}\n",
    "for key in diccionario.keys():\n",
    "    print(key)\n"
   ]
  },
  {
   "cell_type": "markdown",
   "id": "3786973e",
   "metadata": {},
   "source": [
    "Por lo tanto, para iterar accediendo a los valores, realizaremos lo siguiente:"
   ]
  },
  {
   "cell_type": "code",
   "execution_count": 12,
   "id": "67a46750",
   "metadata": {},
   "outputs": [
    {
     "name": "stdout",
     "output_type": "stream",
     "text": [
      "1\n",
      "2\n",
      "3\n"
     ]
    }
   ],
   "source": [
    "diccionario = {'a':1, 'b':2, 'c':3}\n",
    "for key in diccionario:\n",
    "    print(diccionario[key])"
   ]
  },
  {
   "cell_type": "markdown",
   "id": "b6913bb9",
   "metadata": {},
   "source": [
    "Otro manera alternativa sería empleando la función items(), la cual devuelve el diccionario como\n",
    "tuplas de tipo(key,value)"
   ]
  },
  {
   "cell_type": "code",
   "execution_count": 13,
   "id": "c22f5ff6",
   "metadata": {},
   "outputs": [
    {
     "name": "stdout",
     "output_type": "stream",
     "text": [
      "El valor de a is 1\n",
      "El valor de b is 2\n",
      "El valor de c is 3\n"
     ]
    }
   ],
   "source": [
    "diccionario = {'a':1, 'b':2, 'c':3}\n",
    "for key, value in diccionario.items():\n",
    "    print(\"El valor de %s is %d\" % (key, value))\n"
   ]
  },
  {
   "cell_type": "markdown",
   "id": "3c250dc9",
   "metadata": {},
   "source": [
    "# Borrar un elemento\n",
    "Para borrar un elemento de un diccionario se utiliza la instrucción del."
   ]
  },
  {
   "cell_type": "code",
   "execution_count": 15,
   "id": "866eb1b0",
   "metadata": {},
   "outputs": [],
   "source": [
    "edades = {\n",
    "\"Ane\" : 22,\n",
    "\"Jokin\" : 27,\n",
    "\"Aitor\" : 15\n",
    "}\n",
    "del edades[\"Aitor\"]"
   ]
  },
  {
   "cell_type": "markdown",
   "id": "dc6e0ad4",
   "metadata": {},
   "source": [
    "Otra alternativa también utilizada y mencionada anteriormente es la función pop(), el cual devuelve\n",
    "el valor del elemento eliminado:"
   ]
  },
  {
   "cell_type": "code",
   "execution_count": 16,
   "id": "8d7d5bf7",
   "metadata": {},
   "outputs": [
    {
     "data": {
      "text/plain": [
       "15"
      ]
     },
     "execution_count": 16,
     "metadata": {},
     "output_type": "execute_result"
    }
   ],
   "source": [
    "edades = {\n",
    "\"Ane\" : 22,\n",
    "\"Jokin\" : 27,\n",
    "\"Aitor\" : 15\n",
    "}\n",
    "edades.pop(\"Aitor\")"
   ]
  },
  {
   "cell_type": "markdown",
   "id": "ebeeda81",
   "metadata": {},
   "source": [
    "Un diccionario nunca debería contener dos claves iguales. No obstante, en caso de contener una\n",
    "clave repetida, tanto del como pop() eliminarán todas las claves coincidentes."
   ]
  },
  {
   "cell_type": "markdown",
   "id": "99c72b3e",
   "metadata": {},
   "source": [
    "# Coding time!\n",
    "## Ejercicio 1\n",
    "Crea un programa que recorra una lista y cree un diccionario que contenga el número de veces que aparece cada número en la lista.\n",
    "\n",
    "• Ejemplo: [12, 23, 5, 12, 92, 5,12, 5, 29, 92, 64,23]\n",
    "\n",
    "• Resultado: {12: 3, 23: 2, 5: 3, 92: 2, 29: 1, 64: 1}"
   ]
  },
  {
   "cell_type": "code",
   "execution_count": 49,
   "id": "171a19b0",
   "metadata": {},
   "outputs": [
    {
     "name": "stdout",
     "output_type": "stream",
     "text": [
      "{12: 3, 23: 2, 5: 3, 92: 2, 29: 1, 64: 1}\n",
      "{'12': 3, '23': 2, '5': 3, '92': 2, '29': 1, '64': 1}\n"
     ]
    }
   ],
   "source": [
    "# Test code dicc = {}\n",
    "diccionario = {}\n",
    "Lista = [12, 23, 5, 12, 92, 5, 12, 5, 29, 92, 64, 23]\n",
    "for i in Lista:\n",
    "    if i in diccionario:  \n",
    "        diccionario[i] += 1\n",
    "    else:\n",
    "        diccionario[i] = 1\n",
    "print(diccionario)\n",
    "\n",
    "diccionario1 = {'12':Lista.count(12), '23':Lista.count(23), '5':Lista.count(5), '92': Lista.count(92), '29':Lista.count(29), '64': Lista.count(64)}\n",
    "print(diccionario1)\n"
   ]
  },
  {
   "cell_type": "markdown",
   "id": "b54fdce7",
   "metadata": {},
   "source": [
    "# Ejercicio 2\n",
    "Recorre un diccionario y crea una lista solo con los valores que contiene, sin añadir valores\n",
    "duplicados.\n",
    "\n",
    "• Ejemplo: {'Mikel': 3, 'Ane': 8, 'Amaia': 12, 'Unai': 5, 'Jon': 8, 'Ainhoa': 7, 'Maite': 5}\n",
    "\n",
    "• Resultado: [3, 8, 12, 5, 7]"
   ]
  },
  {
   "cell_type": "code",
   "execution_count": 52,
   "id": "abb89ed2",
   "metadata": {},
   "outputs": [
    {
     "name": "stdout",
     "output_type": "stream",
     "text": [
      "[3, 8, 12, 5, 7]\n",
      "[3, 8, 12, 5, 7]\n"
     ]
    }
   ],
   "source": [
    "# Test code\n",
    "\n",
    "diccionario = {'Mikel': 3, 'Ane': 8, 'Amaia': 12, 'Unai': 5, 'Jon': 8, 'Ainhoa': 7, 'Maite': 5}\n",
    "lista2 = []\n",
    "\n",
    "for i2 in diccionario.values():\n",
    "    if i2 not in lista2:\n",
    "        lista2.append(i2)\n",
    "print(lista2)\n",
    "\n",
    "\n",
    "Lista3 = list(dict.fromkeys(diccionario.values()))\n",
    "print(Lista3)"
   ]
  },
  {
   "cell_type": "markdown",
   "id": "f6047ad8",
   "metadata": {},
   "source": [
    "# Ejercicio 3\n",
    "Crea una programa de Login que compruebe el usuario y contraseña en el diccionario a continuación:"
   ]
  },
  {
   "cell_type": "code",
   "execution_count": null,
   "id": "9ad6a87e",
   "metadata": {},
   "outputs": [],
   "source": [
    "usuarios = {\n",
    "\"iperurena\": {  \n",
    "\"nombre\": \"Iñaki\",\n",
    "\"apellido\": \"Perurena\",\n",
    "\"password\": \"123123\"\n",
    "    },\n",
    "\"fmuguruza\": {\n",
    "\"nombre\": \"Fermín\",\n",
    "\"apellido\": \"Muguruza\",\n",
    "\"password\": \"654321\"\n",
    "    },\n",
    "\"aolaizola\": {\n",
    "\"nombre\": \"Aimar\",\n",
    "\"apellido\": \"Olaizola\",\n",
    "\"password\": \"123456\"\n",
    "    }\n",
    "} "
   ]
  },
  {
   "cell_type": "markdown",
   "id": "91cd603c",
   "metadata": {},
   "source": [
    "El usuario tendrá un máximo de 3 intentos, y al acceder correctamente se mostrará el nombre y\n",
    "apellido del usuario."
   ]
  },
  {
   "cell_type": "code",
   "execution_count": null,
   "id": "17a90bb6",
   "metadata": {},
   "outputs": [
    {
     "name": "stdout",
     "output_type": "stream",
     "text": [
      "El usuario no existe. Te quedan 2 intentos.\n"
     ]
    }
   ],
   "source": [
    "# Test code\n",
    "\n",
    "intentos  = 3 \n",
    "while intentos > 0:\n",
    "    usuario = input(\"Usuario: \")\n",
    "    contraseña = input(\"Contraseña: \")\n",
    "    if usuario in usuarios:\n",
    "        if usuarios[usuario][\"password\"] == contraseña:\n",
    "            print(f\"\\n¡Bienvenido/a, {usuarios[usuario]['nombre']} {usuarios[usuario]['apellido']}!\")\n",
    "        else:\n",
    "            intentos -= 1\n",
    "            print(f\"Contraseña incorrecta. Te quedan {intentos} intentos.\")    \n",
    "    else:\n",
    "        intentos -= 1\n",
    "        print(f\"El usuario no existe. Te quedan {intentos} intentos.\")\n",
    "    if intentos == 0:\n",
    "        break"
   ]
  },
  {
   "cell_type": "markdown",
   "id": "d94738d9",
   "metadata": {},
   "source": [
    "# Ejercicio 4\n",
    "Crea un programa que permita introducir a un profesor las notas de sus estudiantes (máximo 10\n",
    "estudiantes). Los datos se deberán almacenar en un diccionario como el siguiente:"
   ]
  },
  {
   "cell_type": "code",
   "execution_count": 18,
   "id": "c1d84404",
   "metadata": {},
   "outputs": [],
   "source": [
    "estudiantes = {\n",
    "\"1\": {\n",
    "\"nombre\": \"Lorea\",\n",
    "\"nota\": 8\n",
    "    },\n",
    "\"2\": {\n",
    "\"nombre\": \"Markel\",\n",
    "\"nota\": \"4.2\"\n",
    "    },\n",
    "\"3\": {\n",
    "\"nombre\": \"Julen\",\n",
    "\"nota\": 6.5\n",
    "    }\n",
    "}"
   ]
  },
  {
   "cell_type": "markdown",
   "id": "eccbee0c",
   "metadata": {},
   "source": [
    "Una vez introducidos todos los datos, el programa mostrará una lista con los nombres de los\n",
    "estudiantes que han suspendido y otra con los que han aprobado. También calculará y mostrará\n",
    "la nota media de la clase"
   ]
  },
  {
   "cell_type": "code",
   "execution_count": null,
   "id": "24aa2d7d",
   "metadata": {},
   "outputs": [],
   "source": [
    "# Test code "
   ]
  }
 ],
 "metadata": {
  "kernelspec": {
   "display_name": "Python 3",
   "language": "python",
   "name": "python3"
  },
  "language_info": {
   "codemirror_mode": {
    "name": "ipython",
    "version": 3
   },
   "file_extension": ".py",
   "mimetype": "text/x-python",
   "name": "python",
   "nbconvert_exporter": "python",
   "pygments_lexer": "ipython3",
   "version": "3.13.2"
  }
 },
 "nbformat": 4,
 "nbformat_minor": 5
}
